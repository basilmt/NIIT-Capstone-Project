{
 "cells": [
  {
   "cell_type": "code",
   "execution_count": 9,
   "id": "1a2a642c",
   "metadata": {},
   "outputs": [],
   "source": [
    "from sklearn import svm\n",
    "from sklearn.ensemble import RandomForestClassifier\n",
    "from sklearn.linear_model import LogisticRegression\n",
    "from sklearn.naive_bayes import GaussianNB\n",
    "from sklearn.naive_bayes import MultinomialNB\n",
    "from sklearn.tree import DecisionTreeClassifier\n",
    "import pandas as pd"
   ]
  },
  {
   "cell_type": "code",
   "execution_count": 10,
   "id": "af4db15c",
   "metadata": {},
   "outputs": [],
   "source": [
    "model_params = {\n",
    "    'svm': {\n",
    "        'model': svm.SVC(gamma='auto'),\n",
    "        'params' : {\n",
    "            'C': [1,10,20],\n",
    "            'kernel': ['rbf','linear']\n",
    "        }  \n",
    "    },\n",
    "    'random_forest': {\n",
    "        'model': RandomForestClassifier(),\n",
    "        'params' : {\n",
    "            'n_estimators': [1,5,10]\n",
    "        }\n",
    "    },\n",
    "    'logistic_regression' : {\n",
    "        'model': LogisticRegression(solver='liblinear',multi_class='auto'),\n",
    "        'params': {\n",
    "            'C': [1,5,10]\n",
    "        }\n",
    "    },\n",
    "    'naive_bayes_gaussian': {\n",
    "        'model': GaussianNB(),\n",
    "        'params': {}\n",
    "    },\n",
    "    'naive_bayes_multinomial': {\n",
    "        'model': MultinomialNB(),\n",
    "        'params': {}\n",
    "    },\n",
    "    'decision_tree': {\n",
    "        'model': DecisionTreeClassifier(),\n",
    "        'params': {\n",
    "            'criterion': ['gini','entropy'],\n",
    "            \n",
    "        }\n",
    "    }     \n",
    "}"
   ]
  },
  {
   "cell_type": "code",
   "execution_count": 11,
   "id": "5a05253e",
   "metadata": {},
   "outputs": [],
   "source": [
    "model_data = pd.read_csv(\"cleaned_data.csv\")[:30001]\n",
    "data = model_data.drop(['Target','patientId'], axis =1)\n",
    "target = model_data['Target']"
   ]
  },
  {
   "cell_type": "code",
   "execution_count": 12,
   "id": "eb713c29",
   "metadata": {},
   "outputs": [
    {
     "data": {
      "text/html": [
       "<div>\n",
       "<style scoped>\n",
       "    .dataframe tbody tr th:only-of-type {\n",
       "        vertical-align: middle;\n",
       "    }\n",
       "\n",
       "    .dataframe tbody tr th {\n",
       "        vertical-align: top;\n",
       "    }\n",
       "\n",
       "    .dataframe thead th {\n",
       "        text-align: right;\n",
       "    }\n",
       "</style>\n",
       "<table border=\"1\" class=\"dataframe\">\n",
       "  <thead>\n",
       "    <tr style=\"text-align: right;\">\n",
       "      <th></th>\n",
       "      <th>patientId</th>\n",
       "      <th>Target</th>\n",
       "      <th>PatientAge</th>\n",
       "      <th>PatientSex_F</th>\n",
       "      <th>PatientSex_M</th>\n",
       "      <th>ViewPosition_AP</th>\n",
       "      <th>ViewPosition_PA</th>\n",
       "    </tr>\n",
       "  </thead>\n",
       "  <tbody>\n",
       "    <tr>\n",
       "      <th>0</th>\n",
       "      <td>0004cfab-14fd-4e49-80ba-63a80b6bddd6</td>\n",
       "      <td>0</td>\n",
       "      <td>51.0</td>\n",
       "      <td>1</td>\n",
       "      <td>0</td>\n",
       "      <td>0</td>\n",
       "      <td>1</td>\n",
       "    </tr>\n",
       "    <tr>\n",
       "      <th>1</th>\n",
       "      <td>00313ee0-9eaa-42f4-b0ab-c148ed3241cd</td>\n",
       "      <td>0</td>\n",
       "      <td>48.0</td>\n",
       "      <td>1</td>\n",
       "      <td>0</td>\n",
       "      <td>0</td>\n",
       "      <td>1</td>\n",
       "    </tr>\n",
       "    <tr>\n",
       "      <th>2</th>\n",
       "      <td>00322d4d-1c29-4943-afc9-b6754be640eb</td>\n",
       "      <td>0</td>\n",
       "      <td>19.0</td>\n",
       "      <td>0</td>\n",
       "      <td>1</td>\n",
       "      <td>1</td>\n",
       "      <td>0</td>\n",
       "    </tr>\n",
       "    <tr>\n",
       "      <th>3</th>\n",
       "      <td>003d8fa0-6bf1-40ed-b54c-ac657f8495c5</td>\n",
       "      <td>0</td>\n",
       "      <td>28.0</td>\n",
       "      <td>0</td>\n",
       "      <td>1</td>\n",
       "      <td>0</td>\n",
       "      <td>1</td>\n",
       "    </tr>\n",
       "    <tr>\n",
       "      <th>4</th>\n",
       "      <td>00436515-870c-4b36-a041-de91049b9ab4</td>\n",
       "      <td>1</td>\n",
       "      <td>32.0</td>\n",
       "      <td>1</td>\n",
       "      <td>0</td>\n",
       "      <td>1</td>\n",
       "      <td>0</td>\n",
       "    </tr>\n",
       "    <tr>\n",
       "      <th>...</th>\n",
       "      <td>...</td>\n",
       "      <td>...</td>\n",
       "      <td>...</td>\n",
       "      <td>...</td>\n",
       "      <td>...</td>\n",
       "      <td>...</td>\n",
       "      <td>...</td>\n",
       "    </tr>\n",
       "    <tr>\n",
       "      <th>29996</th>\n",
       "      <td>2c917d3a-95cb-4c11-802c-f83e28cb37bc</td>\n",
       "      <td>1</td>\n",
       "      <td>33.0</td>\n",
       "      <td>0</td>\n",
       "      <td>1</td>\n",
       "      <td>1</td>\n",
       "      <td>0</td>\n",
       "    </tr>\n",
       "    <tr>\n",
       "      <th>29997</th>\n",
       "      <td>2c917d3a-95cb-4c11-802c-f83e28cb37bc</td>\n",
       "      <td>1</td>\n",
       "      <td>33.0</td>\n",
       "      <td>0</td>\n",
       "      <td>1</td>\n",
       "      <td>1</td>\n",
       "      <td>0</td>\n",
       "    </tr>\n",
       "    <tr>\n",
       "      <th>29998</th>\n",
       "      <td>2c96c09b-aaa8-4c07-8e69-c2210f04be2d</td>\n",
       "      <td>0</td>\n",
       "      <td>63.0</td>\n",
       "      <td>1</td>\n",
       "      <td>0</td>\n",
       "      <td>1</td>\n",
       "      <td>0</td>\n",
       "    </tr>\n",
       "    <tr>\n",
       "      <th>29999</th>\n",
       "      <td>2c9a388f-0042-4b88-b52b-ea0b21fb7960</td>\n",
       "      <td>1</td>\n",
       "      <td>50.0</td>\n",
       "      <td>0</td>\n",
       "      <td>1</td>\n",
       "      <td>1</td>\n",
       "      <td>0</td>\n",
       "    </tr>\n",
       "    <tr>\n",
       "      <th>30000</th>\n",
       "      <td>2cb272c0-90db-4e36-8a78-ed072efcdaa2</td>\n",
       "      <td>0</td>\n",
       "      <td>39.0</td>\n",
       "      <td>0</td>\n",
       "      <td>1</td>\n",
       "      <td>1</td>\n",
       "      <td>0</td>\n",
       "    </tr>\n",
       "  </tbody>\n",
       "</table>\n",
       "<p>30001 rows × 7 columns</p>\n",
       "</div>"
      ],
      "text/plain": [
       "                                  patientId  Target  PatientAge  PatientSex_F  \\\n",
       "0      0004cfab-14fd-4e49-80ba-63a80b6bddd6       0        51.0             1   \n",
       "1      00313ee0-9eaa-42f4-b0ab-c148ed3241cd       0        48.0             1   \n",
       "2      00322d4d-1c29-4943-afc9-b6754be640eb       0        19.0             0   \n",
       "3      003d8fa0-6bf1-40ed-b54c-ac657f8495c5       0        28.0             0   \n",
       "4      00436515-870c-4b36-a041-de91049b9ab4       1        32.0             1   \n",
       "...                                     ...     ...         ...           ...   \n",
       "29996  2c917d3a-95cb-4c11-802c-f83e28cb37bc       1        33.0             0   \n",
       "29997  2c917d3a-95cb-4c11-802c-f83e28cb37bc       1        33.0             0   \n",
       "29998  2c96c09b-aaa8-4c07-8e69-c2210f04be2d       0        63.0             1   \n",
       "29999  2c9a388f-0042-4b88-b52b-ea0b21fb7960       1        50.0             0   \n",
       "30000  2cb272c0-90db-4e36-8a78-ed072efcdaa2       0        39.0             0   \n",
       "\n",
       "       PatientSex_M  ViewPosition_AP  ViewPosition_PA  \n",
       "0                 0                0                1  \n",
       "1                 0                0                1  \n",
       "2                 1                1                0  \n",
       "3                 1                0                1  \n",
       "4                 0                1                0  \n",
       "...             ...              ...              ...  \n",
       "29996             1                1                0  \n",
       "29997             1                1                0  \n",
       "29998             0                1                0  \n",
       "29999             1                1                0  \n",
       "30000             1                1                0  \n",
       "\n",
       "[30001 rows x 7 columns]"
      ]
     },
     "execution_count": 12,
     "metadata": {},
     "output_type": "execute_result"
    }
   ],
   "source": [
    "model_data"
   ]
  },
  {
   "cell_type": "code",
   "execution_count": 13,
   "id": "0fcd1927",
   "metadata": {},
   "outputs": [
    {
     "data": {
      "text/html": [
       "<div>\n",
       "<style scoped>\n",
       "    .dataframe tbody tr th:only-of-type {\n",
       "        vertical-align: middle;\n",
       "    }\n",
       "\n",
       "    .dataframe tbody tr th {\n",
       "        vertical-align: top;\n",
       "    }\n",
       "\n",
       "    .dataframe thead th {\n",
       "        text-align: right;\n",
       "    }\n",
       "</style>\n",
       "<table border=\"1\" class=\"dataframe\">\n",
       "  <thead>\n",
       "    <tr style=\"text-align: right;\">\n",
       "      <th></th>\n",
       "      <th>PatientAge</th>\n",
       "      <th>PatientSex_F</th>\n",
       "      <th>PatientSex_M</th>\n",
       "      <th>ViewPosition_AP</th>\n",
       "      <th>ViewPosition_PA</th>\n",
       "    </tr>\n",
       "  </thead>\n",
       "  <tbody>\n",
       "    <tr>\n",
       "      <th>0</th>\n",
       "      <td>51.0</td>\n",
       "      <td>1</td>\n",
       "      <td>0</td>\n",
       "      <td>0</td>\n",
       "      <td>1</td>\n",
       "    </tr>\n",
       "    <tr>\n",
       "      <th>1</th>\n",
       "      <td>48.0</td>\n",
       "      <td>1</td>\n",
       "      <td>0</td>\n",
       "      <td>0</td>\n",
       "      <td>1</td>\n",
       "    </tr>\n",
       "    <tr>\n",
       "      <th>2</th>\n",
       "      <td>19.0</td>\n",
       "      <td>0</td>\n",
       "      <td>1</td>\n",
       "      <td>1</td>\n",
       "      <td>0</td>\n",
       "    </tr>\n",
       "    <tr>\n",
       "      <th>3</th>\n",
       "      <td>28.0</td>\n",
       "      <td>0</td>\n",
       "      <td>1</td>\n",
       "      <td>0</td>\n",
       "      <td>1</td>\n",
       "    </tr>\n",
       "    <tr>\n",
       "      <th>4</th>\n",
       "      <td>32.0</td>\n",
       "      <td>1</td>\n",
       "      <td>0</td>\n",
       "      <td>1</td>\n",
       "      <td>0</td>\n",
       "    </tr>\n",
       "    <tr>\n",
       "      <th>...</th>\n",
       "      <td>...</td>\n",
       "      <td>...</td>\n",
       "      <td>...</td>\n",
       "      <td>...</td>\n",
       "      <td>...</td>\n",
       "    </tr>\n",
       "    <tr>\n",
       "      <th>29996</th>\n",
       "      <td>33.0</td>\n",
       "      <td>0</td>\n",
       "      <td>1</td>\n",
       "      <td>1</td>\n",
       "      <td>0</td>\n",
       "    </tr>\n",
       "    <tr>\n",
       "      <th>29997</th>\n",
       "      <td>33.0</td>\n",
       "      <td>0</td>\n",
       "      <td>1</td>\n",
       "      <td>1</td>\n",
       "      <td>0</td>\n",
       "    </tr>\n",
       "    <tr>\n",
       "      <th>29998</th>\n",
       "      <td>63.0</td>\n",
       "      <td>1</td>\n",
       "      <td>0</td>\n",
       "      <td>1</td>\n",
       "      <td>0</td>\n",
       "    </tr>\n",
       "    <tr>\n",
       "      <th>29999</th>\n",
       "      <td>50.0</td>\n",
       "      <td>0</td>\n",
       "      <td>1</td>\n",
       "      <td>1</td>\n",
       "      <td>0</td>\n",
       "    </tr>\n",
       "    <tr>\n",
       "      <th>30000</th>\n",
       "      <td>39.0</td>\n",
       "      <td>0</td>\n",
       "      <td>1</td>\n",
       "      <td>1</td>\n",
       "      <td>0</td>\n",
       "    </tr>\n",
       "  </tbody>\n",
       "</table>\n",
       "<p>30001 rows × 5 columns</p>\n",
       "</div>"
      ],
      "text/plain": [
       "       PatientAge  PatientSex_F  PatientSex_M  ViewPosition_AP  \\\n",
       "0            51.0             1             0                0   \n",
       "1            48.0             1             0                0   \n",
       "2            19.0             0             1                1   \n",
       "3            28.0             0             1                0   \n",
       "4            32.0             1             0                1   \n",
       "...           ...           ...           ...              ...   \n",
       "29996        33.0             0             1                1   \n",
       "29997        33.0             0             1                1   \n",
       "29998        63.0             1             0                1   \n",
       "29999        50.0             0             1                1   \n",
       "30000        39.0             0             1                1   \n",
       "\n",
       "       ViewPosition_PA  \n",
       "0                    1  \n",
       "1                    1  \n",
       "2                    0  \n",
       "3                    1  \n",
       "4                    0  \n",
       "...                ...  \n",
       "29996                0  \n",
       "29997                0  \n",
       "29998                0  \n",
       "29999                0  \n",
       "30000                0  \n",
       "\n",
       "[30001 rows x 5 columns]"
      ]
     },
     "execution_count": 13,
     "metadata": {},
     "output_type": "execute_result"
    }
   ],
   "source": [
    "data"
   ]
  },
  {
   "cell_type": "code",
   "execution_count": 14,
   "id": "9cdb030b",
   "metadata": {},
   "outputs": [
    {
     "data": {
      "text/plain": [
       "0        0\n",
       "1        0\n",
       "2        0\n",
       "3        0\n",
       "4        1\n",
       "        ..\n",
       "29996    1\n",
       "29997    1\n",
       "29998    0\n",
       "29999    1\n",
       "30000    0\n",
       "Name: Target, Length: 30001, dtype: int64"
      ]
     },
     "execution_count": 14,
     "metadata": {},
     "output_type": "execute_result"
    }
   ],
   "source": [
    "target"
   ]
  },
  {
   "cell_type": "code",
   "execution_count": 15,
   "id": "dcc897ba",
   "metadata": {},
   "outputs": [
    {
     "data": {
      "text/html": [
       "<div>\n",
       "<style scoped>\n",
       "    .dataframe tbody tr th:only-of-type {\n",
       "        vertical-align: middle;\n",
       "    }\n",
       "\n",
       "    .dataframe tbody tr th {\n",
       "        vertical-align: top;\n",
       "    }\n",
       "\n",
       "    .dataframe thead th {\n",
       "        text-align: right;\n",
       "    }\n",
       "</style>\n",
       "<table border=\"1\" class=\"dataframe\">\n",
       "  <thead>\n",
       "    <tr style=\"text-align: right;\">\n",
       "      <th></th>\n",
       "      <th>model</th>\n",
       "      <th>best_score</th>\n",
       "      <th>best_params</th>\n",
       "    </tr>\n",
       "  </thead>\n",
       "  <tbody>\n",
       "    <tr>\n",
       "      <th>0</th>\n",
       "      <td>svm</td>\n",
       "      <td>0.711676</td>\n",
       "      <td>{'C': 20, 'kernel': 'rbf'}</td>\n",
       "    </tr>\n",
       "    <tr>\n",
       "      <th>1</th>\n",
       "      <td>random_forest</td>\n",
       "      <td>0.713876</td>\n",
       "      <td>{'n_estimators': 10}</td>\n",
       "    </tr>\n",
       "    <tr>\n",
       "      <th>2</th>\n",
       "      <td>logistic_regression</td>\n",
       "      <td>0.698777</td>\n",
       "      <td>{'C': 1}</td>\n",
       "    </tr>\n",
       "    <tr>\n",
       "      <th>3</th>\n",
       "      <td>naive_bayes_gaussian</td>\n",
       "      <td>0.692710</td>\n",
       "      <td>{}</td>\n",
       "    </tr>\n",
       "    <tr>\n",
       "      <th>4</th>\n",
       "      <td>naive_bayes_multinomial</td>\n",
       "      <td>0.690777</td>\n",
       "      <td>{}</td>\n",
       "    </tr>\n",
       "    <tr>\n",
       "      <th>5</th>\n",
       "      <td>decision_tree</td>\n",
       "      <td>0.714510</td>\n",
       "      <td>{'criterion': 'gini'}</td>\n",
       "    </tr>\n",
       "  </tbody>\n",
       "</table>\n",
       "</div>"
      ],
      "text/plain": [
       "                     model  best_score                 best_params\n",
       "0                      svm    0.711676  {'C': 20, 'kernel': 'rbf'}\n",
       "1            random_forest    0.713876        {'n_estimators': 10}\n",
       "2      logistic_regression    0.698777                    {'C': 1}\n",
       "3     naive_bayes_gaussian    0.692710                          {}\n",
       "4  naive_bayes_multinomial    0.690777                          {}\n",
       "5            decision_tree    0.714510       {'criterion': 'gini'}"
      ]
     },
     "execution_count": 15,
     "metadata": {},
     "output_type": "execute_result"
    }
   ],
   "source": [
    "from sklearn.model_selection import GridSearchCV\n",
    "import pandas as pd\n",
    "scores = []\n",
    "\n",
    "\n",
    "for model_name, mp in model_params.items():\n",
    "    clf =  GridSearchCV(mp['model'], mp['params'], cv=5, return_train_score=False)\n",
    "    clf.fit(data, target)\n",
    "    scores.append({\n",
    "        'model': model_name,\n",
    "        'best_score': clf.best_score_,\n",
    "        'best_params': clf.best_params_\n",
    "    })\n",
    "    \n",
    "df = pd.DataFrame(scores,columns=['model','best_score','best_params'])\n",
    "df"
   ]
  },
  {
   "cell_type": "code",
   "execution_count": 16,
   "id": "3a52d21b",
   "metadata": {},
   "outputs": [],
   "source": [
    "import pickle"
   ]
  },
  {
   "cell_type": "code",
   "execution_count": 16,
   "id": "9f58b6ed",
   "metadata": {},
   "outputs": [],
   "source": [
    "with open('svm_pickel', 'wb') as f:\n",
    "    pickle.dump(model_data, f)"
   ]
  },
  {
   "cell_type": "code",
   "execution_count": 17,
   "id": "09302179",
   "metadata": {},
   "outputs": [],
   "source": [
    "with open('svm_pickel', 'rb') as f:\n",
    "    mp = pickle.load(f)"
   ]
  },
  {
   "cell_type": "code",
   "execution_count": 29,
   "id": "6ffbce7e",
   "metadata": {},
   "outputs": [
    {
     "data": {
      "text/html": [
       "<div>\n",
       "<style scoped>\n",
       "    .dataframe tbody tr th:only-of-type {\n",
       "        vertical-align: middle;\n",
       "    }\n",
       "\n",
       "    .dataframe tbody tr th {\n",
       "        vertical-align: top;\n",
       "    }\n",
       "\n",
       "    .dataframe thead th {\n",
       "        text-align: right;\n",
       "    }\n",
       "</style>\n",
       "<table border=\"1\" class=\"dataframe\">\n",
       "  <thead>\n",
       "    <tr style=\"text-align: right;\">\n",
       "      <th></th>\n",
       "      <th>patientId</th>\n",
       "      <th>Target</th>\n",
       "      <th>PatientAge</th>\n",
       "      <th>PatientSex_F</th>\n",
       "      <th>PatientSex_M</th>\n",
       "      <th>ViewPosition_AP</th>\n",
       "      <th>ViewPosition_PA</th>\n",
       "    </tr>\n",
       "  </thead>\n",
       "  <tbody>\n",
       "    <tr>\n",
       "      <th>0</th>\n",
       "      <td>0004cfab-14fd-4e49-80ba-63a80b6bddd6</td>\n",
       "      <td>0</td>\n",
       "      <td>51.0</td>\n",
       "      <td>1</td>\n",
       "      <td>0</td>\n",
       "      <td>0</td>\n",
       "      <td>1</td>\n",
       "    </tr>\n",
       "    <tr>\n",
       "      <th>1</th>\n",
       "      <td>00313ee0-9eaa-42f4-b0ab-c148ed3241cd</td>\n",
       "      <td>0</td>\n",
       "      <td>48.0</td>\n",
       "      <td>1</td>\n",
       "      <td>0</td>\n",
       "      <td>0</td>\n",
       "      <td>1</td>\n",
       "    </tr>\n",
       "    <tr>\n",
       "      <th>2</th>\n",
       "      <td>00322d4d-1c29-4943-afc9-b6754be640eb</td>\n",
       "      <td>0</td>\n",
       "      <td>19.0</td>\n",
       "      <td>0</td>\n",
       "      <td>1</td>\n",
       "      <td>1</td>\n",
       "      <td>0</td>\n",
       "    </tr>\n",
       "    <tr>\n",
       "      <th>3</th>\n",
       "      <td>003d8fa0-6bf1-40ed-b54c-ac657f8495c5</td>\n",
       "      <td>0</td>\n",
       "      <td>28.0</td>\n",
       "      <td>0</td>\n",
       "      <td>1</td>\n",
       "      <td>0</td>\n",
       "      <td>1</td>\n",
       "    </tr>\n",
       "    <tr>\n",
       "      <th>4</th>\n",
       "      <td>00436515-870c-4b36-a041-de91049b9ab4</td>\n",
       "      <td>1</td>\n",
       "      <td>32.0</td>\n",
       "      <td>1</td>\n",
       "      <td>0</td>\n",
       "      <td>1</td>\n",
       "      <td>0</td>\n",
       "    </tr>\n",
       "    <tr>\n",
       "      <th>5</th>\n",
       "      <td>00436515-870c-4b36-a041-de91049b9ab4</td>\n",
       "      <td>1</td>\n",
       "      <td>32.0</td>\n",
       "      <td>1</td>\n",
       "      <td>0</td>\n",
       "      <td>1</td>\n",
       "      <td>0</td>\n",
       "    </tr>\n",
       "    <tr>\n",
       "      <th>6</th>\n",
       "      <td>00569f44-917d-4c86-a842-81832af98c30</td>\n",
       "      <td>0</td>\n",
       "      <td>54.0</td>\n",
       "      <td>0</td>\n",
       "      <td>1</td>\n",
       "      <td>1</td>\n",
       "      <td>0</td>\n",
       "    </tr>\n",
       "    <tr>\n",
       "      <th>7</th>\n",
       "      <td>006cec2e-6ce2-4549-bffa-eadfcd1e9970</td>\n",
       "      <td>0</td>\n",
       "      <td>78.0</td>\n",
       "      <td>0</td>\n",
       "      <td>1</td>\n",
       "      <td>0</td>\n",
       "      <td>1</td>\n",
       "    </tr>\n",
       "    <tr>\n",
       "      <th>8</th>\n",
       "      <td>00704310-78a8-4b38-8475-49f4573b2dbb</td>\n",
       "      <td>1</td>\n",
       "      <td>75.0</td>\n",
       "      <td>0</td>\n",
       "      <td>1</td>\n",
       "      <td>0</td>\n",
       "      <td>1</td>\n",
       "    </tr>\n",
       "    <tr>\n",
       "      <th>9</th>\n",
       "      <td>00704310-78a8-4b38-8475-49f4573b2dbb</td>\n",
       "      <td>1</td>\n",
       "      <td>75.0</td>\n",
       "      <td>0</td>\n",
       "      <td>1</td>\n",
       "      <td>0</td>\n",
       "      <td>1</td>\n",
       "    </tr>\n",
       "  </tbody>\n",
       "</table>\n",
       "</div>"
      ],
      "text/plain": [
       "                              patientId  Target  PatientAge  PatientSex_F  \\\n",
       "0  0004cfab-14fd-4e49-80ba-63a80b6bddd6       0        51.0             1   \n",
       "1  00313ee0-9eaa-42f4-b0ab-c148ed3241cd       0        48.0             1   \n",
       "2  00322d4d-1c29-4943-afc9-b6754be640eb       0        19.0             0   \n",
       "3  003d8fa0-6bf1-40ed-b54c-ac657f8495c5       0        28.0             0   \n",
       "4  00436515-870c-4b36-a041-de91049b9ab4       1        32.0             1   \n",
       "5  00436515-870c-4b36-a041-de91049b9ab4       1        32.0             1   \n",
       "6  00569f44-917d-4c86-a842-81832af98c30       0        54.0             0   \n",
       "7  006cec2e-6ce2-4549-bffa-eadfcd1e9970       0        78.0             0   \n",
       "8  00704310-78a8-4b38-8475-49f4573b2dbb       1        75.0             0   \n",
       "9  00704310-78a8-4b38-8475-49f4573b2dbb       1        75.0             0   \n",
       "\n",
       "   PatientSex_M  ViewPosition_AP  ViewPosition_PA  \n",
       "0             0                0                1  \n",
       "1             0                0                1  \n",
       "2             1                1                0  \n",
       "3             1                0                1  \n",
       "4             0                1                0  \n",
       "5             0                1                0  \n",
       "6             1                1                0  \n",
       "7             1                0                1  \n",
       "8             1                0                1  \n",
       "9             1                0                1  "
      ]
     },
     "execution_count": 29,
     "metadata": {},
     "output_type": "execute_result"
    }
   ],
   "source": [
    "model_data.head(10)"
   ]
  },
  {
   "cell_type": "code",
   "execution_count": 17,
   "id": "527b34ae",
   "metadata": {},
   "outputs": [
    {
     "data": {
      "text/plain": [
       "0.7248091730275658"
      ]
     },
     "execution_count": 17,
     "metadata": {},
     "output_type": "execute_result"
    }
   ],
   "source": [
    "svm_model=svm.SVC(gamma='auto',C=20,kernel='rbf',probability=True, random_state=0)\n",
    "svm_model.fit(data, target)\n",
    "svm_model.score(data,target)"
   ]
  },
  {
   "cell_type": "code",
   "execution_count": 18,
   "id": "fbb4b09c",
   "metadata": {},
   "outputs": [],
   "source": [
    "from sklearn.model_selection import train_test_split\n",
    "X_train,X_test,Y_train,Y_test=train_test_split(data,target,test_size=0.3)"
   ]
  },
  {
   "cell_type": "code",
   "execution_count": 19,
   "id": "4a93634f",
   "metadata": {},
   "outputs": [
    {
     "name": "stdout",
     "output_type": "stream",
     "text": [
      "       PatientAge  PatientSex_F  PatientSex_M  ViewPosition_AP  \\\n",
      "16534        48.0             1             0                1   \n",
      "3710         54.0             0             1                0   \n",
      "25646        60.0             0             1                1   \n",
      "7397         16.0             0             1                0   \n",
      "24595        45.0             0             1                0   \n",
      "...           ...           ...           ...              ...   \n",
      "11124        61.0             1             0                0   \n",
      "17844        46.0             0             1                1   \n",
      "14275        55.0             0             1                0   \n",
      "17759        60.0             0             1                0   \n",
      "19440        44.0             1             0                1   \n",
      "\n",
      "       ViewPosition_PA  \n",
      "16534                0  \n",
      "3710                 1  \n",
      "25646                0  \n",
      "7397                 1  \n",
      "24595                1  \n",
      "...                ...  \n",
      "11124                1  \n",
      "17844                0  \n",
      "14275                1  \n",
      "17759                1  \n",
      "19440                0  \n",
      "\n",
      "[9001 rows x 5 columns]\n"
     ]
    }
   ],
   "source": [
    "print(X_test)"
   ]
  },
  {
   "cell_type": "code",
   "execution_count": 20,
   "id": "8fb03daf",
   "metadata": {},
   "outputs": [
    {
     "data": {
      "text/plain": [
       "array([0, 0, 0, ..., 0, 0, 0], dtype=int64)"
      ]
     },
     "execution_count": 20,
     "metadata": {},
     "output_type": "execute_result"
    }
   ],
   "source": [
    "svm_model.predict(X_test)"
   ]
  },
  {
   "cell_type": "code",
   "execution_count": 21,
   "id": "63ebe117",
   "metadata": {},
   "outputs": [
    {
     "data": {
      "text/plain": [
       "0.7238571428571429"
      ]
     },
     "execution_count": 21,
     "metadata": {},
     "output_type": "execute_result"
    }
   ],
   "source": [
    "svm_model.score(X_train, Y_train)"
   ]
  },
  {
   "cell_type": "code",
   "execution_count": 22,
   "id": "2778d734",
   "metadata": {},
   "outputs": [
    {
     "data": {
      "text/plain": [
       "0.7270303299633374"
      ]
     },
     "execution_count": 22,
     "metadata": {},
     "output_type": "execute_result"
    }
   ],
   "source": [
    "svm_model.score(X_test, Y_test)"
   ]
  },
  {
   "cell_type": "code",
   "execution_count": 23,
   "id": "4e6a4a6a",
   "metadata": {},
   "outputs": [],
   "source": [
    "import pickle"
   ]
  },
  {
   "cell_type": "code",
   "execution_count": 24,
   "id": "1c08651c",
   "metadata": {},
   "outputs": [],
   "source": [
    "with open('svm_pickle_probability_30k', 'wb') as f:\n",
    "    pickle.dump(svm_model, f)"
   ]
  },
  {
   "cell_type": "code",
   "execution_count": 25,
   "id": "b5ad9a81",
   "metadata": {},
   "outputs": [],
   "source": [
    "with open('svm_pickle_probability_30k', 'rb') as f:\n",
    "    mp = pickle.load(f)"
   ]
  },
  {
   "cell_type": "code",
   "execution_count": 26,
   "id": "95f35fb6",
   "metadata": {},
   "outputs": [
    {
     "data": {
      "text/plain": [
       "array([[0.75156184, 0.24843816],\n",
       "       [0.77853173, 0.22146827],\n",
       "       [0.77857351, 0.22142649],\n",
       "       ...,\n",
       "       [0.7786026 , 0.2213974 ],\n",
       "       [0.77849724, 0.22150276],\n",
       "       [0.75667954, 0.24332046]])"
      ]
     },
     "execution_count": 26,
     "metadata": {},
     "output_type": "execute_result"
    }
   ],
   "source": [
    "svm_model.predict_proba(X_test)"
   ]
  },
  {
   "cell_type": "code",
   "execution_count": 27,
   "id": "c836c3d5",
   "metadata": {},
   "outputs": [
    {
     "data": {
      "text/plain": [
       "array([[0.75156184, 0.24843816],\n",
       "       [0.77853173, 0.22146827],\n",
       "       [0.77857351, 0.22142649],\n",
       "       ...,\n",
       "       [0.7786026 , 0.2213974 ],\n",
       "       [0.77849724, 0.22150276],\n",
       "       [0.75667954, 0.24332046]])"
      ]
     },
     "execution_count": 27,
     "metadata": {},
     "output_type": "execute_result"
    }
   ],
   "source": [
    "mp.predict_proba(X_test)"
   ]
  },
  {
   "cell_type": "code",
   "execution_count": 32,
   "id": "ae1e4540",
   "metadata": {},
   "outputs": [],
   "source": [
    "import warnings\n",
    "warnings.filterwarnings('ignore')"
   ]
  },
  {
   "cell_type": "code",
   "execution_count": 33,
   "id": "5e7e6ab3",
   "metadata": {},
   "outputs": [],
   "source": [
    "patient_details=[[50,1,0,0,1]]"
   ]
  },
  {
   "cell_type": "code",
   "execution_count": 34,
   "id": "488887c8",
   "metadata": {},
   "outputs": [
    {
     "data": {
      "text/plain": [
       "array([[0.77853947, 0.22146053]])"
      ]
     },
     "execution_count": 34,
     "metadata": {},
     "output_type": "execute_result"
    }
   ],
   "source": [
    "mp.predict_proba(patient_details)"
   ]
  },
  {
   "cell_type": "code",
   "execution_count": 2,
   "id": "8e248615",
   "metadata": {},
   "outputs": [],
   "source": [
    "# pip install --user scikit-learn --upgrade"
   ]
  },
  {
   "cell_type": "code",
   "execution_count": 28,
   "id": "3dbd8b10",
   "metadata": {},
   "outputs": [
    {
     "name": "stdout",
     "output_type": "stream",
     "text": [
      "1.1.2\n"
     ]
    }
   ],
   "source": [
    "import sklearn\n",
    "print(sklearn.__version__)"
   ]
  },
  {
   "cell_type": "code",
   "execution_count": 9,
   "id": "53c4c710",
   "metadata": {},
   "outputs": [],
   "source": [
    "# model_data2 = pd.read_csv(\"Cleaned_Data_Final.csv\")[:30000]\n",
    "# #model_data2.drop(model_data2[0], axis=1, inplace=True)\n",
    "# # model_data2 = model_data2.drop(model_data2.iloc[:, 0], axis=1, inplace=True)\n",
    "# # #model_data2.iloc[:, 0]\n",
    "# model_data2"
   ]
  },
  {
   "cell_type": "code",
   "execution_count": null,
   "id": "e2dc5b27",
   "metadata": {},
   "outputs": [],
   "source": []
  },
  {
   "cell_type": "code",
   "execution_count": 10,
   "id": "de430c76",
   "metadata": {},
   "outputs": [],
   "source": [
    "# data2 = model_data2.drop(['Target','patientId'], axis =1)\n",
    "# target2 = model_data2['Target']"
   ]
  },
  {
   "cell_type": "code",
   "execution_count": 11,
   "id": "e062427e",
   "metadata": {},
   "outputs": [],
   "source": [
    "# model_data2"
   ]
  },
  {
   "cell_type": "code",
   "execution_count": 12,
   "id": "48a1c9a9",
   "metadata": {},
   "outputs": [],
   "source": [
    "# data2"
   ]
  },
  {
   "cell_type": "code",
   "execution_count": 13,
   "id": "ce7483dd",
   "metadata": {},
   "outputs": [],
   "source": [
    "#target2.head(30)"
   ]
  },
  {
   "cell_type": "code",
   "execution_count": 14,
   "id": "b83b0c94",
   "metadata": {},
   "outputs": [],
   "source": [
    "# model_params2 = {\n",
    "#     'svm': {\n",
    "#         'model': svm.SVC(gamma='auto'),\n",
    "#         'params' : {\n",
    "#             'C': [1,10,20],\n",
    "#             'kernel': ['rbf','linear']\n",
    "#         }  \n",
    "#     },\n",
    "#     'random_forest': {\n",
    "#         'model': RandomForestClassifier(),\n",
    "#         'params' : {\n",
    "#             'n_estimators': [1,5,10],\n",
    "         \n",
    "#         }\n",
    "#     },\n",
    "#     'logistic_regression' : {\n",
    "#         'model': LogisticRegression(solver='liblinear',multi_class='auto'),\n",
    "#         'params': {\n",
    "#             'C': [1,5,10]\n",
    "#         }\n",
    "#     },\n",
    "#     'naive_bayes_gaussian': {\n",
    "#         'model': GaussianNB(),\n",
    "#         'params': {}\n",
    "#     },\n",
    "#     'naive_bayes_multinomial': {\n",
    "#         'model': MultinomialNB(),\n",
    "#         'params': {}\n",
    "#     },\n",
    "#     'decision_tree': {\n",
    "#         'model': DecisionTreeClassifier(),\n",
    "#         'params': {\n",
    "#             'criterion': ['gini','entropy'],\n",
    "       \n",
    "#         }\n",
    "#     }     \n",
    "# }"
   ]
  },
  {
   "cell_type": "code",
   "execution_count": 15,
   "id": "a7806b97",
   "metadata": {},
   "outputs": [],
   "source": [
    "# from sklearn.model_selection import GridSearchCV\n",
    "# import pandas as pd\n",
    "# scores = []\n",
    "\n",
    "\n",
    "# for model_name, mp in model_params2.items():\n",
    "#     clf =  GridSearchCV(mp['model'], mp['params'], cv=5, return_train_score=False)\n",
    "#     clf.fit(data2, target2)\n",
    "#     scores.append({\n",
    "#         'model': model_name,\n",
    "#         'best_score': clf.best_score_,\n",
    "#         'best_params': clf.best_params_\n",
    "#     })\n",
    "    \n",
    "# df = pd.DataFrame(scores,columns=['model','best_score','best_params'])\n",
    "# df"
   ]
  },
  {
   "cell_type": "code",
   "execution_count": null,
   "id": "7af47138",
   "metadata": {},
   "outputs": [],
   "source": []
  },
  {
   "cell_type": "code",
   "execution_count": null,
   "id": "f18a2d55",
   "metadata": {},
   "outputs": [],
   "source": []
  },
  {
   "cell_type": "code",
   "execution_count": null,
   "id": "010a8c52",
   "metadata": {},
   "outputs": [],
   "source": []
  }
 ],
 "metadata": {
  "kernelspec": {
   "display_name": "Python 3 (ipykernel)",
   "language": "python",
   "name": "python3"
  },
  "language_info": {
   "codemirror_mode": {
    "name": "ipython",
    "version": 3
   },
   "file_extension": ".py",
   "mimetype": "text/x-python",
   "name": "python",
   "nbconvert_exporter": "python",
   "pygments_lexer": "ipython3",
   "version": "3.8.8"
  }
 },
 "nbformat": 4,
 "nbformat_minor": 5
}
