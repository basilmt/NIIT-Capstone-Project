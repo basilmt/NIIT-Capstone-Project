{
 "cells": [
  {
   "cell_type": "code",
   "execution_count": 1,
   "metadata": {},
   "outputs": [],
   "source": [
    "import tensorflow as tf\n",
    "\n",
    "from tensorflow.keras import datasets, layers, models\n",
    "import matplotlib.pyplot as plt\n",
    "\n",
    "from sklearn.model_selection import train_test_split\n",
    "\n",
    "import os\n",
    "\n",
    "import pandas as pd\n",
    "import numpy as np\n",
    "import pydicom"
   ]
  },
  {
   "cell_type": "code",
   "execution_count": 2,
   "metadata": {},
   "outputs": [],
   "source": [
    "image_dir = R\"C:\\Users\\u1126257\\Desktop\\aiml_training\\capstone\\rsna-pneumonia-detection-challenge\\stage_2_train_images\"\n",
    "labels_dir = R\"C:\\Users\\u1126257\\Desktop\\aiml_training\\capstone\\rsna-pneumonia-detection-challenge\\stage_2_train_labels.csv\""
   ]
  },
  {
   "cell_type": "code",
   "execution_count": 3,
   "metadata": {},
   "outputs": [],
   "source": [
    "\n",
    "df = pd.read_csv(labels_dir)\n",
    "X = df['patientId']\n",
    "y = df['Target']"
   ]
  },
  {
   "cell_type": "code",
   "execution_count": 4,
   "metadata": {},
   "outputs": [],
   "source": [
    "X_train, X_test, y_train, y_test = train_test_split(X, y, test_size= 0.3, random_state=1)"
   ]
  },
  {
   "cell_type": "code",
   "execution_count": 5,
   "metadata": {},
   "outputs": [],
   "source": [
    "X_train, X_test, y_train, y_test = np.array(X_train), np.array(X_test), np.array(y_train), np.array(y_test)"
   ]
  },
  {
   "cell_type": "code",
   "execution_count": 6,
   "metadata": {},
   "outputs": [
    {
     "data": {
      "text/plain": [
       "'020380f8-5c5a-4ded-bdf3-9ce3036945b4'"
      ]
     },
     "execution_count": 6,
     "metadata": {},
     "output_type": "execute_result"
    }
   ],
   "source": [
    "X_train[0]"
   ]
  },
  {
   "cell_type": "code",
   "execution_count": 7,
   "metadata": {},
   "outputs": [],
   "source": [
    "def load_img_into_ndarray(pid):\n",
    "    file_name = pid + \".dcm\"\n",
    "    dcm_path = os.path.join(image_dir, file_name)\n",
    "    # dcm_path = image_dir + \"\\\\\" + pid + \".dcm\"\n",
    "    data_row_img_data = pydicom.read_file(dcm_path)\n",
    "    ar = data_row_img_data.pixel_array\n",
    "    # ar = np.reshape(ar,(1024,1024,1))\n",
    "    # ar = ar.reshape(1024,1024,1)\n",
    "    ar = ar[..., np.newaxis] \n",
    "    # ar = ar.reshape(ar.shape + (1,))\n",
    "    \n",
    "    # ar = np.expand_dims(ar, axis=0)\n",
    "    # print(ar.shape)\n",
    "    \n",
    "    return ar/255.0\n",
    "\n",
    "p = '00322d4d-1c29-4943-afc9-b6754be640eb'\n",
    "# load_img_into_ndarray(p)/255.0"
   ]
  },
  {
   "cell_type": "code",
   "execution_count": 8,
   "metadata": {},
   "outputs": [],
   "source": [
    "l = []\n",
    "for i in range(len(X_train)):\n",
    "    # X_train[i] = load_img_into_ndarray(X_train[i])\n",
    "    l.append(load_img_into_ndarray(X_train[i]))\n",
    "\n",
    "X_train = np.array(l)"
   ]
  },
  {
   "cell_type": "code",
   "execution_count": 9,
   "metadata": {},
   "outputs": [],
   "source": [
    "l = []\n",
    "for i in range(len(X_test)):\n",
    "    # X_test[i] = load_img_into_ndarray(X_test[i])\n",
    "    l.append(load_img_into_ndarray(X_test[i]))\n",
    "\n",
    "X_test = np.array(l)"
   ]
  },
  {
   "cell_type": "code",
   "execution_count": 11,
   "metadata": {},
   "outputs": [],
   "source": [
    "# X_train, X_test = X_train / 255.0, X_test / 255.0"
   ]
  },
  {
   "cell_type": "code",
   "execution_count": 12,
   "metadata": {},
   "outputs": [],
   "source": [
    "# class_names = ['Normal', 'Lung Opacity']\n",
    "# plt.figure(figsize=(10,10))\n",
    "# for i in range(25):\n",
    "#     plt.subplot(5,5,i+1)\n",
    "#     plt.xticks([])\n",
    "#     plt.yticks([])\n",
    "#     plt.grid(False)\n",
    "#     plt.imshow(X_train[i])\n",
    "#     # The CIFAR labels happen to be arrays, \n",
    "#     # which is why you need the extra index\n",
    "#     plt.xlabel(class_names[y_train[i]])\n",
    "# plt.show()"
   ]
  },
  {
   "cell_type": "code",
   "execution_count": 14,
   "metadata": {},
   "outputs": [],
   "source": [
    "model = models.Sequential()\n",
    "model.add(layers.Conv2D(32, (7, 7), activation='relu', input_shape=(1024, 1024,1), ))\n",
    "model.add(layers.MaxPooling2D((5, 5)))\n",
    "model.add(layers.Conv2D(64, (5, 5), activation='relu'))\n",
    "model.add(layers.Dense(16, activation='relu'))\n",
    "model.add(layers.Dense(4, activation='relu'))\n",
    "model.add(layers.Flatten())\n",
    "model.add(layers.Dense(1,activation = 'sigmoid'))\n",
    "# model.add(layers.Dense(num of classes,activation = 'softmax'))"
   ]
  },
  {
   "cell_type": "code",
   "execution_count": 15,
   "metadata": {},
   "outputs": [
    {
     "name": "stdout",
     "output_type": "stream",
     "text": [
      "Model: \"sequential\"\n",
      "_________________________________________________________________\n",
      " Layer (type)                Output Shape              Param #   \n",
      "=================================================================\n",
      " conv2d (Conv2D)             (None, 1018, 1018, 32)    1600      \n",
      "                                                                 \n",
      " max_pooling2d (MaxPooling2D  (None, 203, 203, 32)     0         \n",
      " )                                                               \n",
      "                                                                 \n",
      " conv2d_1 (Conv2D)           (None, 199, 199, 64)      51264     \n",
      "                                                                 \n",
      " dense (Dense)               (None, 199, 199, 16)      1040      \n",
      "                                                                 \n",
      " dense_1 (Dense)             (None, 199, 199, 4)       68        \n",
      "                                                                 \n",
      " flatten (Flatten)           (None, 158404)            0         \n",
      "                                                                 \n",
      " dense_2 (Dense)             (None, 1)                 158405    \n",
      "                                                                 \n",
      "=================================================================\n",
      "Total params: 212,377\n",
      "Trainable params: 212,377\n",
      "Non-trainable params: 0\n",
      "_________________________________________________________________\n"
     ]
    }
   ],
   "source": [
    "model.summary()\n"
   ]
  },
  {
   "cell_type": "code",
   "execution_count": 17,
   "metadata": {},
   "outputs": [
    {
     "name": "stdout",
     "output_type": "stream",
     "text": [
      "Epoch 1/4\n",
      "18/18 [==============================] - 457s 24s/step - loss: 0.8326 - accuracy: 0.5536 - val_loss: 0.6849 - val_accuracy: 0.5750\n",
      "Epoch 2/4\n",
      "18/18 [==============================] - 405s 22s/step - loss: 0.6838 - accuracy: 0.5607 - val_loss: 0.6326 - val_accuracy: 0.7292\n",
      "Epoch 3/4\n",
      "18/18 [==============================] - 401s 22s/step - loss: 0.5587 - accuracy: 0.7321 - val_loss: 0.5874 - val_accuracy: 0.7417\n",
      "Epoch 4/4\n",
      "18/18 [==============================] - 401s 22s/step - loss: 0.4773 - accuracy: 0.7857 - val_loss: 0.5619 - val_accuracy: 0.7875\n"
     ]
    }
   ],
   "source": [
    "# For multiple category\n",
    "# Dense(n,activation='softmax')\n",
    "# model.compile(loss='categorical_crossentropy') / sparse_categorical_crossentropy\n",
    "\n",
    "# For 2 category\n",
    "# Dense(1,activation='sigmoid')\n",
    "# model.compile(loss='binary_crossentropy')\n",
    "\n",
    "\n",
    "model.compile(optimizer='adam',\n",
    "              loss='binary_crossentropy',\n",
    "              metrics=['accuracy'])\n",
    "\n",
    "history = model.fit(X_train, y_train, epochs=4, \n",
    "                    validation_data=(X_test, y_test))"
   ]
  },
  {
   "cell_type": "code",
   "execution_count": 18,
   "metadata": {},
   "outputs": [
    {
     "name": "stderr",
     "output_type": "stream",
     "text": [
      "WARNING:absl:Found untraced functions such as _jit_compiled_convolution_op, _jit_compiled_convolution_op while saving (showing 2 of 2). These functions will not be directly callable after loading.\n"
     ]
    },
    {
     "name": "stdout",
     "output_type": "stream",
     "text": [
      "INFO:tensorflow:Assets written to: saved_model\\my_model2_78acc\\assets\n"
     ]
    },
    {
     "name": "stderr",
     "output_type": "stream",
     "text": [
      "INFO:tensorflow:Assets written to: saved_model\\my_model2_78acc\\assets\n"
     ]
    }
   ],
   "source": [
    "model_name = \"not_78\"\n",
    "model.save('saved_model\\my_model' + model_name)\n",
    "model.save_weights('checkpoint\\my_checkpoint' + model_name)"
   ]
  },
  {
   "cell_type": "code",
   "execution_count": 19,
   "metadata": {},
   "outputs": [],
   "source": []
  },
  {
   "cell_type": "code",
   "execution_count": null,
   "metadata": {},
   "outputs": [],
   "source": []
  },
  {
   "cell_type": "code",
   "execution_count": null,
   "metadata": {},
   "outputs": [],
   "source": []
  },
  {
   "cell_type": "code",
   "execution_count": 83,
   "metadata": {},
   "outputs": [],
   "source": [
    "df1 = pd.read_csv(labels_dir)[100:150]\n",
    "X1 = df1['patientId']\n",
    "y1 = df1['Target']"
   ]
  },
  {
   "cell_type": "code",
   "execution_count": 84,
   "metadata": {},
   "outputs": [],
   "source": [
    "X1, y1 = np.array(X1), np.array(y1)"
   ]
  },
  {
   "cell_type": "code",
   "execution_count": 85,
   "metadata": {},
   "outputs": [],
   "source": [
    "l = []\n",
    "for i in range(len(X1)):\n",
    "    # X_train[i] = load_img_into_ndarray(X_train[i])\n",
    "    l.append(load_img_into_ndarray(X1[i]))\n",
    "\n",
    "X1 = np.array(l)"
   ]
  },
  {
   "cell_type": "code",
   "execution_count": 86,
   "metadata": {},
   "outputs": [
    {
     "data": {
      "text/plain": [
       "(100, 1024, 1024, 1)"
      ]
     },
     "execution_count": 86,
     "metadata": {},
     "output_type": "execute_result"
    }
   ],
   "source": [
    "X1.shape"
   ]
  },
  {
   "cell_type": "code",
   "execution_count": 87,
   "metadata": {},
   "outputs": [
    {
     "name": "stdout",
     "output_type": "stream",
     "text": [
      "4/4 - 13s - loss: 3.7669 - accuracy: 0.8400 - 13s/epoch - 3s/step\n"
     ]
    },
    {
     "data": {
      "text/plain": [
       "[3.7668936252593994, 0.8399999737739563]"
      ]
     },
     "execution_count": 87,
     "metadata": {},
     "output_type": "execute_result"
    }
   ],
   "source": [
    "model.evaluate(X1,  y1, verbose=2)"
   ]
  },
  {
   "cell_type": "code",
   "execution_count": 88,
   "metadata": {},
   "outputs": [],
   "source": [
    "def do_pred(x):\n",
    "    # v = load_img_into_ndarray(x)\n",
    "    l = []\n",
    "    v = x\n",
    "    l.append(v)\n",
    "    l = np.array(l)\n",
    "    # l = l / 255.0\n",
    "    return l"
   ]
  },
  {
   "cell_type": "code",
   "execution_count": 90,
   "metadata": {},
   "outputs": [
    {
     "data": {
      "text/plain": [
       "(1, 1024, 1024, 1)"
      ]
     },
     "execution_count": 90,
     "metadata": {},
     "output_type": "execute_result"
    }
   ],
   "source": [
    "valll = X1[0]\n",
    "l = []\n",
    "l.append(valll)\n",
    "l = np.array(l)\n",
    "l.shape"
   ]
  },
  {
   "cell_type": "code",
   "execution_count": 96,
   "metadata": {},
   "outputs": [
    {
     "name": "stdout",
     "output_type": "stream",
     "text": [
      "1/1 [==============================] - 0s 154ms/step\n"
     ]
    },
    {
     "data": {
      "text/plain": [
       "False"
      ]
     },
     "execution_count": 96,
     "metadata": {},
     "output_type": "execute_result"
    }
   ],
   "source": [
    "model.predict(l)[0][0] > 0.5"
   ]
  },
  {
   "cell_type": "code",
   "execution_count": 92,
   "metadata": {},
   "outputs": [
    {
     "data": {
      "text/plain": [
       "(1, 1024, 1024, 1)"
      ]
     },
     "execution_count": 92,
     "metadata": {},
     "output_type": "execute_result"
    }
   ],
   "source": [
    "do_pred(X1[i]).shape"
   ]
  },
  {
   "cell_type": "code",
   "execution_count": 105,
   "metadata": {},
   "outputs": [
    {
     "name": "stdout",
     "output_type": "stream",
     "text": [
      "1/1 [==============================] - 0s 158ms/step\n"
     ]
    },
    {
     "data": {
      "text/plain": [
       "0.0"
      ]
     },
     "execution_count": 105,
     "metadata": {},
     "output_type": "execute_result"
    }
   ],
   "source": [
    "def pred_fun(file_name):\n",
    "    l = []\n",
    "    l.append(load_img_into_ndarray(file_name))\n",
    "    l = np.array(l)\n",
    "    # model = getmodel()\n",
    "    return model.predict(l)[0][0]\n",
    "\n",
    "\n",
    "pred_fun(p)"
   ]
  },
  {
   "cell_type": "code",
   "execution_count": 93,
   "metadata": {},
   "outputs": [
    {
     "name": "stdout",
     "output_type": "stream",
     "text": [
      "1/1 [==============================] - 0s 300ms/step\n",
      "[[0.43160477]]\n",
      "0\n",
      "1/1 [==============================] - 0s 199ms/step\n",
      "[[0.478861]]\n",
      "0\n",
      "1/1 [==============================] - 0s 217ms/step\n",
      "[[0.3781229]]\n",
      "0\n",
      "1/1 [==============================] - 0s 199ms/step\n",
      "[[0.28921664]]\n",
      "0\n",
      "1/1 [==============================] - 0s 204ms/step\n",
      "[[0.54275185]]\n",
      "1\n",
      "1/1 [==============================] - 0s 192ms/step\n",
      "[[0.54275185]]\n",
      "1\n",
      "1/1 [==============================] - 0s 202ms/step\n",
      "[[0.43974972]]\n",
      "0\n",
      "1/1 [==============================] - 0s 168ms/step\n",
      "[[0.34419945]]\n",
      "0\n",
      "1/1 [==============================] - 0s 169ms/step\n",
      "[[0.5015181]]\n",
      "1\n",
      "1/1 [==============================] - 0s 231ms/step\n",
      "[[0.5015181]]\n",
      "1\n",
      "1/1 [==============================] - 0s 217ms/step\n",
      "[[0.4388795]]\n",
      "0\n",
      "1/1 [==============================] - 0s 191ms/step\n",
      "[[0.36623394]]\n",
      "0\n",
      "1/1 [==============================] - 0s 203ms/step\n",
      "[[0.37281543]]\n",
      "0\n",
      "1/1 [==============================] - 0s 185ms/step\n",
      "[[0.41740704]]\n",
      "0\n",
      "1/1 [==============================] - 0s 188ms/step\n",
      "[[0.48494384]]\n",
      "1\n",
      "1/1 [==============================] - 0s 199ms/step\n",
      "[[0.48494384]]\n",
      "1\n",
      "1/1 [==============================] - 0s 184ms/step\n",
      "[[0.5335723]]\n",
      "1\n",
      "1/1 [==============================] - 0s 208ms/step\n",
      "[[0.5335723]]\n",
      "1\n",
      "1/1 [==============================] - 0s 198ms/step\n",
      "[[0.3929661]]\n",
      "0\n",
      "1/1 [==============================] - 0s 217ms/step\n",
      "[[0.49470562]]\n",
      "1\n",
      "1/1 [==============================] - 0s 215ms/step\n",
      "[[0.49470562]]\n",
      "1\n",
      "1/1 [==============================] - 0s 168ms/step\n",
      "[[0.3552284]]\n",
      "0\n",
      "1/1 [==============================] - 0s 173ms/step\n",
      "[[0.43409994]]\n",
      "1\n",
      "1/1 [==============================] - 0s 161ms/step\n",
      "[[0.31916484]]\n",
      "0\n",
      "1/1 [==============================] - 0s 156ms/step\n",
      "[[0.479438]]\n",
      "1\n",
      "1/1 [==============================] - 0s 235ms/step\n",
      "[[0.479438]]\n",
      "1\n",
      "1/1 [==============================] - 0s 249ms/step\n",
      "[[0.49394605]]\n",
      "0\n",
      "1/1 [==============================] - 0s 176ms/step\n",
      "[[0.5298439]]\n",
      "1\n",
      "1/1 [==============================] - 0s 199ms/step\n",
      "[[0.5298439]]\n",
      "1\n",
      "1/1 [==============================] - 0s 218ms/step\n",
      "[[0.44504344]]\n",
      "0\n",
      "1/1 [==============================] - 0s 160ms/step\n",
      "[[0.2933643]]\n",
      "0\n",
      "1/1 [==============================] - 0s 162ms/step\n",
      "[[0.33275008]]\n",
      "0\n",
      "1/1 [==============================] - 0s 153ms/step\n",
      "[[0.5097504]]\n",
      "1\n",
      "1/1 [==============================] - 0s 163ms/step\n",
      "[[0.5097504]]\n",
      "1\n",
      "1/1 [==============================] - 0s 153ms/step\n",
      "[[0.26865596]]\n",
      "0\n",
      "1/1 [==============================] - 0s 178ms/step\n",
      "[[0.40300834]]\n",
      "0\n",
      "1/1 [==============================] - 0s 228ms/step\n",
      "[[0.6005734]]\n",
      "1\n",
      "1/1 [==============================] - 0s 276ms/step\n",
      "[[0.6005734]]\n",
      "1\n",
      "1/1 [==============================] - 0s 257ms/step\n",
      "[[0.38003024]]\n",
      "0\n",
      "1/1 [==============================] - 0s 178ms/step\n",
      "[[0.38288376]]\n",
      "0\n",
      "1/1 [==============================] - 0s 161ms/step\n",
      "[[0.46267477]]\n",
      "0\n",
      "1/1 [==============================] - 0s 160ms/step\n",
      "[[0.60177094]]\n",
      "1\n",
      "1/1 [==============================] - 0s 171ms/step\n",
      "[[0.60177094]]\n",
      "1\n",
      "1/1 [==============================] - 0s 247ms/step\n",
      "[[0.48882914]]\n",
      "1\n",
      "1/1 [==============================] - 0s 274ms/step\n",
      "[[0.48882914]]\n",
      "1\n",
      "1/1 [==============================] - 0s 194ms/step\n",
      "[[0.42428643]]\n",
      "0\n",
      "1/1 [==============================] - 0s 232ms/step\n",
      "[[0.4630958]]\n",
      "1\n",
      "1/1 [==============================] - 0s 235ms/step\n",
      "[[0.31676343]]\n",
      "0\n",
      "1/1 [==============================] - 0s 200ms/step\n",
      "[[0.46253115]]\n",
      "0\n",
      "1/1 [==============================] - 0s 177ms/step\n",
      "[[0.6228518]]\n",
      "1\n",
      "1/1 [==============================] - 0s 226ms/step\n",
      "[[0.6228518]]\n",
      "1\n",
      "1/1 [==============================] - 0s 227ms/step\n",
      "[[0.6168961]]\n",
      "1\n",
      "1/1 [==============================] - 0s 179ms/step\n",
      "[[0.6168961]]\n",
      "1\n",
      "1/1 [==============================] - 0s 178ms/step\n",
      "[[0.32880673]]\n",
      "0\n",
      "1/1 [==============================] - 0s 193ms/step\n",
      "[[0.4412227]]\n",
      "0\n",
      "1/1 [==============================] - 0s 220ms/step\n",
      "[[0.30177662]]\n",
      "0\n",
      "1/1 [==============================] - 0s 223ms/step\n",
      "[[0.51983446]]\n",
      "0\n",
      "1/1 [==============================] - 0s 201ms/step\n",
      "[[0.45603782]]\n",
      "1\n",
      "1/1 [==============================] - 0s 164ms/step\n",
      "[[0.45603782]]\n",
      "1\n",
      "1/1 [==============================] - 0s 171ms/step\n",
      "[[0.33815485]]\n",
      "0\n",
      "1/1 [==============================] - 0s 161ms/step\n",
      "[[0.39394]]\n",
      "1\n",
      "1/1 [==============================] - 0s 165ms/step\n",
      "[[0.4230784]]\n",
      "0\n",
      "1/1 [==============================] - 0s 174ms/step\n",
      "[[0.40037686]]\n",
      "0\n",
      "1/1 [==============================] - 0s 168ms/step\n",
      "[[0.5705155]]\n",
      "1\n",
      "1/1 [==============================] - 0s 156ms/step\n",
      "[[0.5705155]]\n",
      "1\n",
      "1/1 [==============================] - 0s 154ms/step\n",
      "[[0.41704774]]\n",
      "0\n",
      "1/1 [==============================] - 0s 154ms/step\n",
      "[[0.42299306]]\n",
      "1\n",
      "1/1 [==============================] - 0s 182ms/step\n",
      "[[0.44411564]]\n",
      "0\n",
      "1/1 [==============================] - 0s 156ms/step\n",
      "[[0.32849044]]\n",
      "0\n",
      "1/1 [==============================] - 0s 155ms/step\n",
      "[[0.4762731]]\n",
      "0\n",
      "1/1 [==============================] - 0s 153ms/step\n",
      "[[0.4224264]]\n",
      "0\n",
      "1/1 [==============================] - 0s 160ms/step\n",
      "[[0.3800709]]\n",
      "0\n",
      "1/1 [==============================] - 0s 157ms/step\n",
      "[[0.4258917]]\n",
      "0\n",
      "1/1 [==============================] - 0s 158ms/step\n",
      "[[0.4504964]]\n",
      "0\n",
      "1/1 [==============================] - 0s 151ms/step\n",
      "[[0.3821003]]\n",
      "0\n",
      "1/1 [==============================] - 0s 178ms/step\n",
      "[[0.3601203]]\n",
      "0\n",
      "1/1 [==============================] - 0s 161ms/step\n",
      "[[0.58000255]]\n",
      "1\n",
      "1/1 [==============================] - 0s 163ms/step\n",
      "[[0.58000255]]\n",
      "1\n",
      "1/1 [==============================] - 0s 154ms/step\n",
      "[[0.45450425]]\n",
      "0\n",
      "1/1 [==============================] - 0s 141ms/step\n",
      "[[0.4150993]]\n",
      "0\n",
      "1/1 [==============================] - 0s 149ms/step\n",
      "[[0.4877292]]\n",
      "1\n",
      "1/1 [==============================] - 0s 155ms/step\n",
      "[[0.4877292]]\n",
      "1\n",
      "1/1 [==============================] - 0s 179ms/step\n",
      "[[0.64886034]]\n",
      "1\n",
      "1/1 [==============================] - 0s 249ms/step\n",
      "[[0.64886034]]\n",
      "1\n",
      "1/1 [==============================] - 0s 200ms/step\n",
      "[[0.46576682]]\n",
      "0\n",
      "1/1 [==============================] - 0s 171ms/step\n",
      "[[0.5671905]]\n",
      "1\n",
      "1/1 [==============================] - 0s 155ms/step\n",
      "[[0.5671905]]\n",
      "1\n",
      "1/1 [==============================] - 0s 160ms/step\n",
      "[[0.52238953]]\n",
      "1\n",
      "1/1 [==============================] - 0s 164ms/step\n",
      "[[0.52238953]]\n",
      "1\n",
      "1/1 [==============================] - 0s 156ms/step\n",
      "[[0.33287904]]\n",
      "0\n",
      "1/1 [==============================] - 0s 173ms/step\n",
      "[[0.47363403]]\n",
      "1\n",
      "1/1 [==============================] - 0s 161ms/step\n",
      "[[0.47363403]]\n",
      "1\n",
      "1/1 [==============================] - 0s 169ms/step\n",
      "[[0.46228045]]\n",
      "1\n",
      "1/1 [==============================] - 0s 204ms/step\n",
      "[[0.46228045]]\n",
      "1\n",
      "1/1 [==============================] - 0s 177ms/step\n",
      "[[0.33111188]]\n",
      "0\n",
      "1/1 [==============================] - 0s 241ms/step\n",
      "[[0.3866947]]\n",
      "0\n",
      "1/1 [==============================] - 0s 167ms/step\n",
      "[[0.40499595]]\n",
      "0\n",
      "1/1 [==============================] - 0s 167ms/step\n",
      "[[0.4386138]]\n",
      "1\n",
      "1/1 [==============================] - 0s 166ms/step\n",
      "[[0.36924833]]\n",
      "0\n",
      "1/1 [==============================] - 0s 159ms/step\n",
      "[[0.4388627]]\n",
      "0\n"
     ]
    }
   ],
   "source": [
    "for i in range(len(X1)):\n",
    "    print(model.predict(do_pred(X1[i])))\n",
    "    print(y1[i])"
   ]
  },
  {
   "cell_type": "code",
   "execution_count": null,
   "metadata": {},
   "outputs": [],
   "source": []
  }
 ],
 "metadata": {
  "kernelspec": {
   "display_name": "Python 3.8.13 ('capstone')",
   "language": "python",
   "name": "python3"
  },
  "language_info": {
   "codemirror_mode": {
    "name": "ipython",
    "version": 3
   },
   "file_extension": ".py",
   "mimetype": "text/x-python",
   "name": "python",
   "nbconvert_exporter": "python",
   "pygments_lexer": "ipython3",
   "version": "3.8.13"
  },
  "orig_nbformat": 4,
  "vscode": {
   "interpreter": {
    "hash": "9e67496cb2337ac5e359f376f3e85a62fdec5438c7ff1a557507742b08e6822e"
   }
  }
 },
 "nbformat": 4,
 "nbformat_minor": 2
}
